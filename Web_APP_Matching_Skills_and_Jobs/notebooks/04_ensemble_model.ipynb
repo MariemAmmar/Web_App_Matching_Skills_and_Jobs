{
 "cells": [
  {
   "cell_type": "code",
   "execution_count": 1,
   "metadata": {
    "pycharm": {
     "name": "#%%\n"
    }
   },
   "outputs": [],
   "source": [
    "import numpy as np\n",
    "\n",
    "DATA_PATH = '../data/processed/02_cleaned_df.pkl'\n",
    "MODEL_DIR = '../models'\n",
    "\n",
    "ROLE_COLS  = ['DevType']\n",
    "TECH_COLS  = ['LanguageHaveWorkedWith',\n",
    "              'DatabaseHaveWorkedWith',\n",
    "              'WebframeHaveWorkedWith',\n",
    "              'MiscTechHaveWorkedWith',\n",
    "              'ToolsTechHaveWorkedWith']\n",
    "\n",
    "EXCLUDE_ROLES = ['Other (please specify):',\n",
    "                 'Student',\n",
    "                 'Designer',\n",
    "                 'Educator',\n",
    "                 'Marketing or sales professional',\n",
    "                 'Engineering manager',\n",
    "                 'Senior Executive (C-Suite, VP, etc.)',\n",
    "                 'Product manager',\n",
    "                 'Engineer, site reliability']\n"
   ]
  },
  {
   "cell_type": "code",
   "execution_count": 2,
   "metadata": {
    "pycharm": {
     "name": "#%%\n"
    }
   },
   "outputs": [],
   "source": [
    "import numpy as np\n",
    "import pandas as pd\n",
    "\n",
    "import pickle\n",
    "import os\n",
    "import yaml\n",
    "import time\n",
    "import datetime\n",
    "import copy\n",
    "import sys\n",
    "sys.path.append('../scripts')\n",
    "from preprocessing import one_hot_encode\n",
    "from sklearn.preprocessing import StandardScaler\n",
    "\n",
    "from sklearn.ensemble import AdaBoostClassifier\n",
    "from sklearn.linear_model import LassoCV\n",
    "from sklearn import linear_model\n",
    "\n",
    "from sklearn.pipeline import make_pipeline\n",
    "from sklearn.pipeline import Pipeline\n",
    "\n",
    "from sklearn.metrics import auc, accuracy_score, f1_score, precision_score, recall_score\n",
    "from sklearn.metrics import classification_report\n",
    "\n",
    "from sklearn.model_selection import train_test_split\n",
    "from sklearn.decomposition import PCA, KernelPCA\n",
    "from sklearn.ensemble import RandomForestClassifier\n",
    "from sklearn.model_selection import GridSearchCV\n",
    "\n",
    "from sklearn.inspection import permutation_importance\n",
    "from sklearn.ensemble import StackingClassifier\n"
   ]
  },
  {
   "cell_type": "markdown",
   "metadata": {
    "pycharm": {
     "name": "#%% md\n"
    }
   },
   "source": [
    "### Functions"
   ]
  },
  {
   "cell_type": "code",
   "execution_count": 3,
   "metadata": {
    "pycharm": {
     "name": "#%%\n"
    }
   },
   "outputs": [],
   "source": [
    "def calculate_quality(ground_truth, predictions, metric_function, sort_values=False):\n",
    "    quality_scores = {}\n",
    "    for col in predictions.columns:\n",
    "        role_pred = predictions[col].copy()\n",
    "        role_truth = ground_truth[col].copy()\n",
    "        quality_scores[col] = round(metric_function(role_truth, role_pred) * 100, 2)\n",
    "\n",
    "    quality_scores = pd.Series(quality_scores.values(), index=quality_scores.keys())\n",
    "    if sort_values:\n",
    "        quality_scores = quality_scores.sort_values()\n",
    "\n",
    "    return quality_scores\n"
   ]
  },
  {
   "cell_type": "code",
   "execution_count": 4,
   "metadata": {
    "pycharm": {
     "name": "#%%\n"
    }
   },
   "outputs": [],
   "source": [
    "def get_train_test_data(job, ohe_tech, ohe_roles):\n",
    "    # Split to train and test\n",
    "    role_mask = (ohe_roles[job] == 1)\n",
    "    role_n = role_mask.sum()\n",
    "\n",
    "    i_role  = role_mask[role_mask].index.tolist()\n",
    "    i_other = role_mask[~role_mask].sample(role_n, random_state=0).index.tolist()\n",
    "\n",
    "    i_role_train,  i_role_test  = train_test_split(i_role,  test_size=0.3, random_state=0)\n",
    "    i_other_train, i_other_test = train_test_split(i_other, test_size=0.3, random_state=0)\n",
    "\n",
    "    i_train = i_role_train + i_other_train\n",
    "    i_test  = i_role_test  + i_other_test\n",
    "\n",
    "    X_train, y_train = ohe_tech.loc[i_train], ohe_roles[job].loc[i_train]\n",
    "    X_test,  y_test  = ohe_tech.loc[i_test], ohe_roles[job].loc[i_test]\n",
    "\n",
    "    return X_train, X_test, y_train, y_test\n"
   ]
  },
  {
   "cell_type": "markdown",
   "metadata": {
    "pycharm": {
     "name": "#%% md\n"
    }
   },
   "source": [
    "### Load data and preprocess"
   ]
  },
  {
   "cell_type": "code",
   "execution_count": 5,
   "metadata": {
    "pycharm": {
     "name": "#%%\n"
    }
   },
   "outputs": [],
   "source": [
    "# Read data\n",
    "processed_df = pd.read_pickle(DATA_PATH)\n"
   ]
  },
  {
   "cell_type": "code",
   "execution_count": 6,
   "metadata": {
    "pycharm": {
     "name": "#%%\n"
    }
   },
   "outputs": [],
   "source": [
    "# One hot encode\n",
    "ohe_df = one_hot_encode(processed_df, ROLE_COLS + TECH_COLS)\n",
    "ohe_df = ohe_df.drop(EXCLUDE_ROLES, axis=1, level=1)\n"
   ]
  },
  {
   "cell_type": "code",
   "execution_count": 7,
   "metadata": {
    "pycharm": {
     "name": "#%%\n"
    }
   },
   "outputs": [],
   "source": [
    "# Split X & Y\n",
    "ohe_tech  = ohe_df[TECH_COLS].droplevel(0, axis=1)\n",
    "ohe_roles = ohe_df[ROLE_COLS].droplevel(0, axis=1)\n"
   ]
  },
  {
   "cell_type": "code",
   "execution_count": 8,
   "metadata": {
    "pycharm": {
     "name": "#%%\n"
    }
   },
   "outputs": [
    {
     "data": {
      "text/plain": [
       "Developer, game or graphics                        483\n",
       "Database administrator                             586\n",
       "Scientist                                          697\n",
       "Developer, QA or test                              745\n",
       "System administrator                              1002\n",
       "Data or business analyst                          1049\n",
       "Academic researcher                               1135\n",
       "Engineer, data                                    1194\n",
       "Data scientist or machine learning specialist     1543\n",
       "DevOps specialist                                 1565\n",
       "Developer, embedded applications or devices       1585\n",
       "Developer, mobile                                 2990\n",
       "Developer, desktop or enterprise applications     3239\n",
       "Developer, front-end                              5433\n",
       "Developer, back-end                              10818\n",
       "Developer, full-stack                            11426\n",
       "dtype: int64"
      ]
     },
     "execution_count": 8,
     "metadata": {},
     "output_type": "execute_result"
    }
   ],
   "source": [
    "# Check sums\n",
    "ohe_roles.sum().sort_values()\n"
   ]
  },
  {
   "cell_type": "markdown",
   "metadata": {
    "pycharm": {
     "name": "#%% md\n"
    }
   },
   "source": [
    "# Train models"
   ]
  },
  {
   "cell_type": "markdown",
   "metadata": {
    "pycharm": {
     "name": "#%% md\n"
    }
   },
   "source": [
    "### Create template model"
   ]
  },
  {
   "cell_type": "code",
   "execution_count": 9,
   "metadata": {
    "pycharm": {
     "name": "#%%\n"
    }
   },
   "outputs": [],
   "source": [
    "rf_clf =  RandomForestClassifier(max_depth=3, n_estimators=5000, random_state=0)\n",
    "\n",
    "en_clf =  Pipeline([('std_scale', StandardScaler()),\n",
    "                    ('cv_elastic_net',\n",
    "                     GridSearchCV(\n",
    "                        linear_model.LogisticRegression(penalty='elasticnet',\n",
    "                                                        solver='saga',\n",
    "                                                        max_iter=1000,\n",
    "                                                        random_state=0),\n",
    "                         param_grid={'C':        np.linspace(0.5, 1.5, 10),\n",
    "                                     'l1_ratio': np.linspace(0,   1,   10)},\n",
    "                         n_jobs=6))\n",
    "                    ])\n",
    "\n",
    "stacked_clf = StackingClassifier(estimators=[('random_forest', rf_clf),\n",
    "                                             ('elastic_net',   en_clf)],\n",
    "                                 final_estimator=linear_model.LogisticRegression())\n"
   ]
  },
  {
   "cell_type": "markdown",
   "metadata": {
    "pycharm": {
     "name": "#%% md\n"
    }
   },
   "source": [
    "### Train models"
   ]
  },
  {
   "cell_type": "code",
   "execution_count": 10,
   "metadata": {
    "pycharm": {
     "name": "#%%\n"
    }
   },
   "outputs": [
    {
     "name": "stdout",
     "output_type": "stream",
     "text": [
      "2023-03-01 22:23:45.684133 ... Training model for Academic researcher\n",
      "2023-03-01 22:34:02.756157 ... Training model for Data or business analyst\n",
      "2023-03-01 22:43:58.111395 ... Training model for Data scientist or machine learning specialist\n",
      "2023-03-01 22:55:54.857749 ... Training model for Database administrator\n",
      "2023-03-01 23:00:28.200071 ... Training model for DevOps specialist\n",
      "2023-03-01 23:07:47.434314 ... Training model for Developer, QA or test\n",
      "2023-03-01 23:14:40.105093 ... Training model for Developer, back-end\n",
      "2023-03-01 23:22:50.306869 ... Training model for Developer, desktop or enterprise applications\n",
      "2023-03-01 23:30:17.095980 ... Training model for Developer, embedded applications or devices\n",
      "2023-03-01 23:38:04.684102 ... Training model for Developer, front-end\n",
      "2023-03-01 23:45:17.838954 ... Training model for Developer, full-stack\n",
      "2023-03-01 23:53:36.411614 ... Training model for Developer, game or graphics\n",
      "2023-03-01 23:59:40.940614 ... Training model for Developer, mobile\n",
      "2023-03-02 00:09:55.156513 ... Training model for Engineer, data\n",
      "2023-03-02 00:16:49.684175 ... Training model for Scientist\n",
      "2023-03-02 00:24:18.432633 ... Training model for System administrator\n"
     ]
    }
   ],
   "source": [
    "data = {}\n",
    "models = {}\n",
    "unique_jobs = ohe_roles.columns.to_list()\n",
    "\n",
    "for job in unique_jobs:\n",
    "     print(str(datetime.datetime.now()) + ' ... Training model for ' + job)\n",
    "\n",
    "     # Create and save data\n",
    "     X_train, X_test, y_train, y_test = get_train_test_data(job, ohe_tech, ohe_roles)\n",
    "     data[job] = {'X_train': X_train, 'X_test': X_test, 'y_train': y_train, 'y_test': y_test}\n",
    "\n",
    "     # Fit and save model\n",
    "     job_model = copy.deepcopy(stacked_clf)\n",
    "     job_model.fit(X_train, y_train)\n",
    "     models[job] = copy.deepcopy(job_model)\n",
    "    "
   ]
  },
  {
   "cell_type": "markdown",
   "metadata": {
    "pycharm": {
     "name": "#%% md\n"
    }
   },
   "source": [
    "### Evaluate models"
   ]
  },
  {
   "cell_type": "code",
   "execution_count": 11,
   "metadata": {
    "pycharm": {
     "name": "#%%\n"
    }
   },
   "outputs": [
    {
     "name": "stdout",
     "output_type": "stream",
     "text": [
      "2023-03-02 00:47:38.257455 ... Evaluating Academic researcher\n",
      "2023-03-02 00:47:41.288751 ... Evaluating Data or business analyst\n",
      "2023-03-02 00:47:43.177029 ... Evaluating Data scientist or machine learning specialist\n",
      "2023-03-02 00:47:45.055726 ... Evaluating Database administrator\n",
      "2023-03-02 00:47:46.492709 ... Evaluating DevOps specialist\n",
      "2023-03-02 00:47:48.271881 ... Evaluating Developer, QA or test\n",
      "2023-03-02 00:47:49.657993 ... Evaluating Developer, back-end\n",
      "2023-03-02 00:47:55.911012 ... Evaluating Developer, desktop or enterprise applications\n",
      "2023-03-02 00:47:58.479645 ... Evaluating Developer, embedded applications or devices\n",
      "2023-03-02 00:48:00.170164 ... Evaluating Developer, front-end\n",
      "2023-03-02 00:48:03.874231 ... Evaluating Developer, full-stack\n",
      "2023-03-02 00:48:10.332390 ... Evaluating Developer, game or graphics\n",
      "2023-03-02 00:48:11.428918 ... Evaluating Developer, mobile\n",
      "2023-03-02 00:48:13.824681 ... Evaluating Engineer, data\n",
      "2023-03-02 00:48:15.319942 ... Evaluating Scientist\n",
      "2023-03-02 00:48:16.483884 ... Evaluating System administrator\n"
     ]
    }
   ],
   "source": [
    "train_evaluation = {}\n",
    "test_evaluation  = {}\n",
    "\n",
    "for job in unique_jobs:\n",
    "    print(str(datetime.datetime.now()) + ' ... Evaluating ' + job)\n",
    "\n",
    "    model = models[job]\n",
    "    train_fit = classification_report(data[job]['y_train'], model.predict(data[job]['X_train']), output_dict=True)\n",
    "    train_evaluation[job] = train_fit['weighted avg']\n",
    "\n",
    "    test_fit = classification_report(data[job]['y_test'], model.predict(data[job]['X_test']), output_dict=True)\n",
    "    test_evaluation[job] = test_fit['weighted avg']\n",
    "\n",
    "test_evaluation  = pd.DataFrame(test_evaluation).T\n",
    "train_evaluation = pd.DataFrame(train_evaluation).T\n"
   ]
  },
  {
   "cell_type": "code",
   "execution_count": 12,
   "metadata": {
    "pycharm": {
     "name": "#%%\n"
    }
   },
   "outputs": [
    {
     "data": {
      "text/html": [
       "<div>\n",
       "<style scoped>\n",
       "    .dataframe tbody tr th:only-of-type {\n",
       "        vertical-align: middle;\n",
       "    }\n",
       "\n",
       "    .dataframe tbody tr th {\n",
       "        vertical-align: top;\n",
       "    }\n",
       "\n",
       "    .dataframe thead th {\n",
       "        text-align: right;\n",
       "    }\n",
       "</style>\n",
       "<table border=\"1\" class=\"dataframe\">\n",
       "  <thead>\n",
       "    <tr style=\"text-align: right;\">\n",
       "      <th></th>\n",
       "      <th>Academic researcher</th>\n",
       "      <th>Data or business analyst</th>\n",
       "      <th>Data scientist or machine learning specialist</th>\n",
       "      <th>Database administrator</th>\n",
       "      <th>DevOps specialist</th>\n",
       "      <th>Developer, QA or test</th>\n",
       "      <th>Developer, back-end</th>\n",
       "      <th>Developer, desktop or enterprise applications</th>\n",
       "      <th>Developer, embedded applications or devices</th>\n",
       "      <th>Developer, front-end</th>\n",
       "      <th>Developer, full-stack</th>\n",
       "      <th>Developer, game or graphics</th>\n",
       "      <th>Developer, mobile</th>\n",
       "      <th>Engineer, data</th>\n",
       "      <th>Scientist</th>\n",
       "      <th>System administrator</th>\n",
       "    </tr>\n",
       "  </thead>\n",
       "  <tbody>\n",
       "    <tr>\n",
       "      <th>precision</th>\n",
       "      <td>0.835707</td>\n",
       "      <td>0.830114</td>\n",
       "      <td>0.908447</td>\n",
       "      <td>0.758690</td>\n",
       "      <td>0.779782</td>\n",
       "      <td>0.707515</td>\n",
       "      <td>0.705417</td>\n",
       "      <td>0.726741</td>\n",
       "      <td>0.861132</td>\n",
       "      <td>0.786225</td>\n",
       "      <td>0.751934</td>\n",
       "      <td>0.870182</td>\n",
       "      <td>0.899236</td>\n",
       "      <td>0.767185</td>\n",
       "      <td>0.888171</td>\n",
       "      <td>0.752525</td>\n",
       "    </tr>\n",
       "    <tr>\n",
       "      <th>recall</th>\n",
       "      <td>0.835642</td>\n",
       "      <td>0.829700</td>\n",
       "      <td>0.908333</td>\n",
       "      <td>0.758537</td>\n",
       "      <td>0.778539</td>\n",
       "      <td>0.707294</td>\n",
       "      <td>0.705362</td>\n",
       "      <td>0.726731</td>\n",
       "      <td>0.860685</td>\n",
       "      <td>0.785958</td>\n",
       "      <td>0.750563</td>\n",
       "      <td>0.866864</td>\n",
       "      <td>0.898710</td>\n",
       "      <td>0.764671</td>\n",
       "      <td>0.888090</td>\n",
       "      <td>0.751783</td>\n",
       "    </tr>\n",
       "    <tr>\n",
       "      <th>f1-score</th>\n",
       "      <td>0.835634</td>\n",
       "      <td>0.829647</td>\n",
       "      <td>0.908327</td>\n",
       "      <td>0.758501</td>\n",
       "      <td>0.778292</td>\n",
       "      <td>0.707216</td>\n",
       "      <td>0.705342</td>\n",
       "      <td>0.726728</td>\n",
       "      <td>0.860642</td>\n",
       "      <td>0.785909</td>\n",
       "      <td>0.750223</td>\n",
       "      <td>0.866565</td>\n",
       "      <td>0.898677</td>\n",
       "      <td>0.764116</td>\n",
       "      <td>0.888085</td>\n",
       "      <td>0.751601</td>\n",
       "    </tr>\n",
       "    <tr>\n",
       "      <th>support</th>\n",
       "      <td>1588.000000</td>\n",
       "      <td>1468.000000</td>\n",
       "      <td>2160.000000</td>\n",
       "      <td>820.000000</td>\n",
       "      <td>2190.000000</td>\n",
       "      <td>1042.000000</td>\n",
       "      <td>15144.000000</td>\n",
       "      <td>4534.000000</td>\n",
       "      <td>2218.000000</td>\n",
       "      <td>7606.000000</td>\n",
       "      <td>15996.000000</td>\n",
       "      <td>676.000000</td>\n",
       "      <td>4186.000000</td>\n",
       "      <td>1670.000000</td>\n",
       "      <td>974.000000</td>\n",
       "      <td>1402.000000</td>\n",
       "    </tr>\n",
       "  </tbody>\n",
       "</table>\n",
       "</div>"
      ],
      "text/plain": [
       "           Academic researcher  Data or business analyst  \\\n",
       "precision             0.835707                  0.830114   \n",
       "recall                0.835642                  0.829700   \n",
       "f1-score              0.835634                  0.829647   \n",
       "support            1588.000000               1468.000000   \n",
       "\n",
       "           Data scientist or machine learning specialist  \\\n",
       "precision                                       0.908447   \n",
       "recall                                          0.908333   \n",
       "f1-score                                        0.908327   \n",
       "support                                      2160.000000   \n",
       "\n",
       "           Database administrator  DevOps specialist  Developer, QA or test  \\\n",
       "precision                0.758690           0.779782               0.707515   \n",
       "recall                   0.758537           0.778539               0.707294   \n",
       "f1-score                 0.758501           0.778292               0.707216   \n",
       "support                820.000000        2190.000000            1042.000000   \n",
       "\n",
       "           Developer, back-end  Developer, desktop or enterprise applications  \\\n",
       "precision             0.705417                                       0.726741   \n",
       "recall                0.705362                                       0.726731   \n",
       "f1-score              0.705342                                       0.726728   \n",
       "support           15144.000000                                    4534.000000   \n",
       "\n",
       "           Developer, embedded applications or devices  Developer, front-end  \\\n",
       "precision                                     0.861132              0.786225   \n",
       "recall                                        0.860685              0.785958   \n",
       "f1-score                                      0.860642              0.785909   \n",
       "support                                    2218.000000           7606.000000   \n",
       "\n",
       "           Developer, full-stack  Developer, game or graphics  \\\n",
       "precision               0.751934                     0.870182   \n",
       "recall                  0.750563                     0.866864   \n",
       "f1-score                0.750223                     0.866565   \n",
       "support             15996.000000                   676.000000   \n",
       "\n",
       "           Developer, mobile  Engineer, data   Scientist  System administrator  \n",
       "precision           0.899236        0.767185    0.888171              0.752525  \n",
       "recall              0.898710        0.764671    0.888090              0.751783  \n",
       "f1-score            0.898677        0.764116    0.888085              0.751601  \n",
       "support          4186.000000     1670.000000  974.000000           1402.000000  "
      ]
     },
     "execution_count": 12,
     "metadata": {},
     "output_type": "execute_result"
    }
   ],
   "source": [
    "train_evaluation.T"
   ]
  },
  {
   "cell_type": "code",
   "execution_count": 13,
   "metadata": {
    "pycharm": {
     "name": "#%%\n"
    }
   },
   "outputs": [
    {
     "data": {
      "text/html": [
       "<div>\n",
       "<style scoped>\n",
       "    .dataframe tbody tr th:only-of-type {\n",
       "        vertical-align: middle;\n",
       "    }\n",
       "\n",
       "    .dataframe tbody tr th {\n",
       "        vertical-align: top;\n",
       "    }\n",
       "\n",
       "    .dataframe thead th {\n",
       "        text-align: right;\n",
       "    }\n",
       "</style>\n",
       "<table border=\"1\" class=\"dataframe\">\n",
       "  <thead>\n",
       "    <tr style=\"text-align: right;\">\n",
       "      <th></th>\n",
       "      <th>Academic researcher</th>\n",
       "      <th>Data or business analyst</th>\n",
       "      <th>Data scientist or machine learning specialist</th>\n",
       "      <th>Database administrator</th>\n",
       "      <th>DevOps specialist</th>\n",
       "      <th>Developer, QA or test</th>\n",
       "      <th>Developer, back-end</th>\n",
       "      <th>Developer, desktop or enterprise applications</th>\n",
       "      <th>Developer, embedded applications or devices</th>\n",
       "      <th>Developer, front-end</th>\n",
       "      <th>Developer, full-stack</th>\n",
       "      <th>Developer, game or graphics</th>\n",
       "      <th>Developer, mobile</th>\n",
       "      <th>Engineer, data</th>\n",
       "      <th>Scientist</th>\n",
       "      <th>System administrator</th>\n",
       "    </tr>\n",
       "  </thead>\n",
       "  <tbody>\n",
       "    <tr>\n",
       "      <th>precision</th>\n",
       "      <td>0.825538</td>\n",
       "      <td>0.812812</td>\n",
       "      <td>0.896336</td>\n",
       "      <td>0.746450</td>\n",
       "      <td>0.779645</td>\n",
       "      <td>0.621622</td>\n",
       "      <td>0.711589</td>\n",
       "      <td>0.741268</td>\n",
       "      <td>0.839407</td>\n",
       "      <td>0.782456</td>\n",
       "      <td>0.746891</td>\n",
       "      <td>0.873854</td>\n",
       "      <td>0.877978</td>\n",
       "      <td>0.739619</td>\n",
       "      <td>0.840855</td>\n",
       "      <td>0.694662</td>\n",
       "    </tr>\n",
       "    <tr>\n",
       "      <th>recall</th>\n",
       "      <td>0.825513</td>\n",
       "      <td>0.812698</td>\n",
       "      <td>0.896328</td>\n",
       "      <td>0.741477</td>\n",
       "      <td>0.775532</td>\n",
       "      <td>0.618304</td>\n",
       "      <td>0.711337</td>\n",
       "      <td>0.741255</td>\n",
       "      <td>0.839286</td>\n",
       "      <td>0.781595</td>\n",
       "      <td>0.745770</td>\n",
       "      <td>0.872414</td>\n",
       "      <td>0.877369</td>\n",
       "      <td>0.738162</td>\n",
       "      <td>0.840476</td>\n",
       "      <td>0.694352</td>\n",
       "    </tr>\n",
       "    <tr>\n",
       "      <th>f1-score</th>\n",
       "      <td>0.825510</td>\n",
       "      <td>0.812681</td>\n",
       "      <td>0.896328</td>\n",
       "      <td>0.740167</td>\n",
       "      <td>0.774703</td>\n",
       "      <td>0.615682</td>\n",
       "      <td>0.711251</td>\n",
       "      <td>0.741252</td>\n",
       "      <td>0.839271</td>\n",
       "      <td>0.781429</td>\n",
       "      <td>0.745481</td>\n",
       "      <td>0.872291</td>\n",
       "      <td>0.877320</td>\n",
       "      <td>0.737763</td>\n",
       "      <td>0.840432</td>\n",
       "      <td>0.694231</td>\n",
       "    </tr>\n",
       "    <tr>\n",
       "      <th>support</th>\n",
       "      <td>682.000000</td>\n",
       "      <td>630.000000</td>\n",
       "      <td>926.000000</td>\n",
       "      <td>352.000000</td>\n",
       "      <td>940.000000</td>\n",
       "      <td>448.000000</td>\n",
       "      <td>6492.000000</td>\n",
       "      <td>1944.000000</td>\n",
       "      <td>952.000000</td>\n",
       "      <td>3260.000000</td>\n",
       "      <td>6856.000000</td>\n",
       "      <td>290.000000</td>\n",
       "      <td>1794.000000</td>\n",
       "      <td>718.000000</td>\n",
       "      <td>420.000000</td>\n",
       "      <td>602.000000</td>\n",
       "    </tr>\n",
       "  </tbody>\n",
       "</table>\n",
       "</div>"
      ],
      "text/plain": [
       "           Academic researcher  Data or business analyst  \\\n",
       "precision             0.825538                  0.812812   \n",
       "recall                0.825513                  0.812698   \n",
       "f1-score              0.825510                  0.812681   \n",
       "support             682.000000                630.000000   \n",
       "\n",
       "           Data scientist or machine learning specialist  \\\n",
       "precision                                       0.896336   \n",
       "recall                                          0.896328   \n",
       "f1-score                                        0.896328   \n",
       "support                                       926.000000   \n",
       "\n",
       "           Database administrator  DevOps specialist  Developer, QA or test  \\\n",
       "precision                0.746450           0.779645               0.621622   \n",
       "recall                   0.741477           0.775532               0.618304   \n",
       "f1-score                 0.740167           0.774703               0.615682   \n",
       "support                352.000000         940.000000             448.000000   \n",
       "\n",
       "           Developer, back-end  Developer, desktop or enterprise applications  \\\n",
       "precision             0.711589                                       0.741268   \n",
       "recall                0.711337                                       0.741255   \n",
       "f1-score              0.711251                                       0.741252   \n",
       "support            6492.000000                                    1944.000000   \n",
       "\n",
       "           Developer, embedded applications or devices  Developer, front-end  \\\n",
       "precision                                     0.839407              0.782456   \n",
       "recall                                        0.839286              0.781595   \n",
       "f1-score                                      0.839271              0.781429   \n",
       "support                                     952.000000           3260.000000   \n",
       "\n",
       "           Developer, full-stack  Developer, game or graphics  \\\n",
       "precision               0.746891                     0.873854   \n",
       "recall                  0.745770                     0.872414   \n",
       "f1-score                0.745481                     0.872291   \n",
       "support              6856.000000                   290.000000   \n",
       "\n",
       "           Developer, mobile  Engineer, data   Scientist  System administrator  \n",
       "precision           0.877978        0.739619    0.840855              0.694662  \n",
       "recall              0.877369        0.738162    0.840476              0.694352  \n",
       "f1-score            0.877320        0.737763    0.840432              0.694231  \n",
       "support          1794.000000      718.000000  420.000000            602.000000  "
      ]
     },
     "execution_count": 13,
     "metadata": {},
     "output_type": "execute_result"
    }
   ],
   "source": [
    "test_evaluation.T"
   ]
  },
  {
   "cell_type": "markdown",
   "metadata": {
    "pycharm": {
     "name": "#%% md\n"
    }
   },
   "source": [
    "### Calculate feature importances"
   ]
  },
  {
   "cell_type": "code",
   "execution_count": 14,
   "metadata": {
    "pycharm": {
     "name": "#%%\n"
    }
   },
   "outputs": [
    {
     "ename": "FileNotFoundError",
     "evalue": "[Errno 2] No such file or directory: '../models/ensemble_models.pkl'",
     "output_type": "error",
     "traceback": [
      "\u001b[1;31m---------------------------------------------------------------------------\u001b[0m",
      "\u001b[1;31mFileNotFoundError\u001b[0m                         Traceback (most recent call last)",
      "\u001b[1;32m~\\AppData\\Local\\Temp/ipykernel_3816/2813285408.py\u001b[0m in \u001b[0;36m<module>\u001b[1;34m\u001b[0m\n\u001b[1;32m----> 1\u001b[1;33m \u001b[0mmodels\u001b[0m \u001b[1;33m=\u001b[0m \u001b[0mpickle\u001b[0m\u001b[1;33m.\u001b[0m\u001b[0mload\u001b[0m\u001b[1;33m(\u001b[0m\u001b[0mopen\u001b[0m\u001b[1;33m(\u001b[0m\u001b[1;34m'../models/ensemble_models.pkl'\u001b[0m\u001b[1;33m,\u001b[0m \u001b[1;34m'rb'\u001b[0m\u001b[1;33m)\u001b[0m\u001b[1;33m)\u001b[0m\u001b[1;33m\u001b[0m\u001b[1;33m\u001b[0m\u001b[0m\n\u001b[0m",
      "\u001b[1;31mFileNotFoundError\u001b[0m: [Errno 2] No such file or directory: '../models/ensemble_models.pkl'"
     ]
    }
   ],
   "source": [
    "models = pickle.load(open('../models/ensemble_models.pkl', 'rb'))\n"
   ]
  },
  {
   "cell_type": "code",
   "execution_count": 15,
   "metadata": {
    "pycharm": {
     "name": "#%%\n"
    }
   },
   "outputs": [
    {
     "name": "stdout",
     "output_type": "stream",
     "text": [
      "2023-03-02 00:48:31.276423 ... Calculating feature importances Academic researcher\n",
      "2023-03-02 00:56:35.732747 ... Calculating feature importances Data or business analyst\n",
      "2023-03-02 01:04:02.195293 ... Calculating feature importances Data scientist or machine learning specialist\n",
      "2023-03-02 01:12:32.790610 ... Calculating feature importances Database administrator\n",
      "2023-03-02 01:19:32.764135 ... Calculating feature importances DevOps specialist\n"
     ]
    },
    {
     "name": "stderr",
     "output_type": "stream",
     "text": [
      "c:\\users\\asus\\appdata\\local\\programs\\python\\python38\\lib\\site-packages\\joblib\\externals\\loky\\process_executor.py:702: UserWarning: A worker stopped while some jobs were given to the executor. This can be caused by a too short worker timeout or by a memory leak.\n",
      "  warnings.warn(\n"
     ]
    },
    {
     "name": "stdout",
     "output_type": "stream",
     "text": [
      "2023-03-02 01:35:52.549985 ... Calculating feature importances Developer, QA or test\n",
      "2023-03-02 01:42:53.497213 ... Calculating feature importances Developer, back-end\n",
      "2023-03-02 02:17:54.106317 ... Calculating feature importances Developer, desktop or enterprise applications\n",
      "2023-03-02 02:30:27.547750 ... Calculating feature importances Developer, embedded applications or devices\n",
      "2023-03-02 02:38:27.598539 ... Calculating feature importances Developer, front-end\n",
      "2023-03-02 02:56:11.740850 ... Calculating feature importances Developer, full-stack\n"
     ]
    },
    {
     "ename": "MemoryError",
     "evalue": "Unable to allocate 11.8 MiB for an array with shape (15996, 97) and data type float64",
     "output_type": "error",
     "traceback": [
      "\u001b[1;31m---------------------------------------------------------------------------\u001b[0m",
      "\u001b[1;31m_RemoteTraceback\u001b[0m                          Traceback (most recent call last)",
      "\u001b[1;31m_RemoteTraceback\u001b[0m: \n\"\"\"\nTraceback (most recent call last):\n  File \"c:\\users\\asus\\appdata\\local\\programs\\python\\python38\\lib\\site-packages\\joblib\\externals\\loky\\process_executor.py\", line 436, in _process_worker\n    r = call_item()\n  File \"c:\\users\\asus\\appdata\\local\\programs\\python\\python38\\lib\\site-packages\\joblib\\externals\\loky\\process_executor.py\", line 288, in __call__\n    return self.fn(*self.args, **self.kwargs)\n  File \"c:\\users\\asus\\appdata\\local\\programs\\python\\python38\\lib\\site-packages\\joblib\\_parallel_backends.py\", line 595, in __call__\n    return self.func(*args, **kwargs)\n  File \"c:\\users\\asus\\appdata\\local\\programs\\python\\python38\\lib\\site-packages\\joblib\\parallel.py\", line 262, in __call__\n    return [func(*args, **kwargs)\n  File \"c:\\users\\asus\\appdata\\local\\programs\\python\\python38\\lib\\site-packages\\joblib\\parallel.py\", line 262, in <listcomp>\n    return [func(*args, **kwargs)\n  File \"c:\\users\\asus\\appdata\\local\\programs\\python\\python38\\lib\\site-packages\\sklearn\\utils\\fixes.py\", line 211, in __call__\n    return self.function(*args, **kwargs)\n  File \"c:\\users\\asus\\appdata\\local\\programs\\python\\python38\\lib\\site-packages\\sklearn\\inspection\\_permutation_importance.py\", line 64, in _calculate_permutation_scores\n    scores.append(_weights_scorer(scorer, estimator, X_permuted, y, sample_weight))\n  File \"c:\\users\\asus\\appdata\\local\\programs\\python\\python38\\lib\\site-packages\\sklearn\\inspection\\_permutation_importance.py\", line 19, in _weights_scorer\n    return scorer(estimator, X, y)\n  File \"c:\\users\\asus\\appdata\\local\\programs\\python\\python38\\lib\\site-packages\\sklearn\\metrics\\_scorer.py\", line 418, in _passthrough_scorer\n    return estimator.score(*args, **kwargs)\n  File \"c:\\users\\asus\\appdata\\local\\programs\\python\\python38\\lib\\site-packages\\sklearn\\base.py\", line 646, in score\n    return accuracy_score(y, self.predict(X), sample_weight=sample_weight)\n  File \"c:\\users\\asus\\appdata\\local\\programs\\python\\python38\\lib\\site-packages\\sklearn\\utils\\metaestimators.py\", line 113, in <lambda>\n    out = lambda *args, **kwargs: self.fn(obj, *args, **kwargs)  # noqa\n  File \"c:\\users\\asus\\appdata\\local\\programs\\python\\python38\\lib\\site-packages\\sklearn\\ensemble\\_stacking.py\", line 511, in predict\n    y_pred = super().predict(X, **predict_params)\n  File \"c:\\users\\asus\\appdata\\local\\programs\\python\\python38\\lib\\site-packages\\sklearn\\utils\\metaestimators.py\", line 113, in <lambda>\n    out = lambda *args, **kwargs: self.fn(obj, *args, **kwargs)  # noqa\n  File \"c:\\users\\asus\\appdata\\local\\programs\\python\\python38\\lib\\site-packages\\sklearn\\ensemble\\_stacking.py\", line 267, in predict\n    return self.final_estimator_.predict(self.transform(X), **predict_params)\n  File \"c:\\users\\asus\\appdata\\local\\programs\\python\\python38\\lib\\site-packages\\sklearn\\ensemble\\_stacking.py\", line 567, in transform\n    return self._transform(X)\n  File \"c:\\users\\asus\\appdata\\local\\programs\\python\\python38\\lib\\site-packages\\sklearn\\ensemble\\_stacking.py\", line 237, in _transform\n    predictions = [\n  File \"c:\\users\\asus\\appdata\\local\\programs\\python\\python38\\lib\\site-packages\\sklearn\\ensemble\\_stacking.py\", line 238, in <listcomp>\n    getattr(est, meth)(X)\n  File \"c:\\users\\asus\\appdata\\local\\programs\\python\\python38\\lib\\site-packages\\sklearn\\utils\\metaestimators.py\", line 113, in <lambda>\n    out = lambda *args, **kwargs: self.fn(obj, *args, **kwargs)  # noqa\n  File \"c:\\users\\asus\\appdata\\local\\programs\\python\\python38\\lib\\site-packages\\sklearn\\pipeline.py\", line 535, in predict_proba\n    Xt = transform.transform(Xt)\n  File \"c:\\users\\asus\\appdata\\local\\programs\\python\\python38\\lib\\site-packages\\sklearn\\preprocessing\\_data.py\", line 973, in transform\n    X = self._validate_data(\n  File \"c:\\users\\asus\\appdata\\local\\programs\\python\\python38\\lib\\site-packages\\sklearn\\base.py\", line 561, in _validate_data\n    X = check_array(X, **check_params)\n  File \"c:\\users\\asus\\appdata\\local\\programs\\python\\python38\\lib\\site-packages\\sklearn\\utils\\validation.py\", line 738, in check_array\n    array = np.asarray(array, order=order, dtype=dtype)\n  File \"c:\\users\\asus\\appdata\\local\\programs\\python\\python38\\lib\\site-packages\\pandas\\core\\generic.py\", line 1993, in __array__\n    return np.asarray(self._values, dtype=dtype)\nnumpy.core._exceptions._ArrayMemoryError: Unable to allocate 11.8 MiB for an array with shape (15996, 97) and data type float64\n\"\"\"",
      "\nThe above exception was the direct cause of the following exception:\n",
      "\u001b[1;31mMemoryError\u001b[0m                               Traceback (most recent call last)",
      "\u001b[1;32m~\\AppData\\Local\\Temp/ipykernel_3816/347880298.py\u001b[0m in \u001b[0;36m<module>\u001b[1;34m\u001b[0m\n\u001b[0;32m      4\u001b[0m     \u001b[0mprint\u001b[0m\u001b[1;33m(\u001b[0m\u001b[0mstr\u001b[0m\u001b[1;33m(\u001b[0m\u001b[0mdatetime\u001b[0m\u001b[1;33m.\u001b[0m\u001b[0mdatetime\u001b[0m\u001b[1;33m.\u001b[0m\u001b[0mnow\u001b[0m\u001b[1;33m(\u001b[0m\u001b[1;33m)\u001b[0m\u001b[1;33m)\u001b[0m \u001b[1;33m+\u001b[0m \u001b[1;34m' ... Calculating feature importances '\u001b[0m \u001b[1;33m+\u001b[0m \u001b[0mjob\u001b[0m\u001b[1;33m)\u001b[0m\u001b[1;33m\u001b[0m\u001b[1;33m\u001b[0m\u001b[0m\n\u001b[0;32m      5\u001b[0m \u001b[1;33m\u001b[0m\u001b[0m\n\u001b[1;32m----> 6\u001b[1;33m     features_importances = permutation_importance(models[job],\n\u001b[0m\u001b[0;32m      7\u001b[0m                                                   \u001b[0mdata\u001b[0m\u001b[1;33m[\u001b[0m\u001b[0mjob\u001b[0m\u001b[1;33m]\u001b[0m\u001b[1;33m[\u001b[0m\u001b[1;34m'X_train'\u001b[0m\u001b[1;33m]\u001b[0m\u001b[1;33m,\u001b[0m\u001b[1;33m\u001b[0m\u001b[1;33m\u001b[0m\u001b[0m\n\u001b[0;32m      8\u001b[0m                                                   \u001b[0mdata\u001b[0m\u001b[1;33m[\u001b[0m\u001b[0mjob\u001b[0m\u001b[1;33m]\u001b[0m\u001b[1;33m[\u001b[0m\u001b[1;34m'y_train'\u001b[0m\u001b[1;33m]\u001b[0m\u001b[1;33m,\u001b[0m\u001b[1;33m\u001b[0m\u001b[1;33m\u001b[0m\u001b[0m\n",
      "\u001b[1;32mc:\\users\\asus\\appdata\\local\\programs\\python\\python38\\lib\\site-packages\\sklearn\\inspection\\_permutation_importance.py\u001b[0m in \u001b[0;36mpermutation_importance\u001b[1;34m(estimator, X, y, scoring, n_repeats, n_jobs, random_state, sample_weight, max_samples)\u001b[0m\n\u001b[0;32m    257\u001b[0m     \u001b[0mbaseline_score\u001b[0m \u001b[1;33m=\u001b[0m \u001b[0m_weights_scorer\u001b[0m\u001b[1;33m(\u001b[0m\u001b[0mscorer\u001b[0m\u001b[1;33m,\u001b[0m \u001b[0mestimator\u001b[0m\u001b[1;33m,\u001b[0m \u001b[0mX\u001b[0m\u001b[1;33m,\u001b[0m \u001b[0my\u001b[0m\u001b[1;33m,\u001b[0m \u001b[0msample_weight\u001b[0m\u001b[1;33m)\u001b[0m\u001b[1;33m\u001b[0m\u001b[1;33m\u001b[0m\u001b[0m\n\u001b[0;32m    258\u001b[0m \u001b[1;33m\u001b[0m\u001b[0m\n\u001b[1;32m--> 259\u001b[1;33m     scores = Parallel(n_jobs=n_jobs)(\n\u001b[0m\u001b[0;32m    260\u001b[0m         delayed(_calculate_permutation_scores)(\n\u001b[0;32m    261\u001b[0m             \u001b[0mestimator\u001b[0m\u001b[1;33m,\u001b[0m\u001b[1;33m\u001b[0m\u001b[1;33m\u001b[0m\u001b[0m\n",
      "\u001b[1;32mc:\\users\\asus\\appdata\\local\\programs\\python\\python38\\lib\\site-packages\\joblib\\parallel.py\u001b[0m in \u001b[0;36m__call__\u001b[1;34m(self, iterable)\u001b[0m\n\u001b[0;32m   1054\u001b[0m \u001b[1;33m\u001b[0m\u001b[0m\n\u001b[0;32m   1055\u001b[0m             \u001b[1;32mwith\u001b[0m \u001b[0mself\u001b[0m\u001b[1;33m.\u001b[0m\u001b[0m_backend\u001b[0m\u001b[1;33m.\u001b[0m\u001b[0mretrieval_context\u001b[0m\u001b[1;33m(\u001b[0m\u001b[1;33m)\u001b[0m\u001b[1;33m:\u001b[0m\u001b[1;33m\u001b[0m\u001b[1;33m\u001b[0m\u001b[0m\n\u001b[1;32m-> 1056\u001b[1;33m                 \u001b[0mself\u001b[0m\u001b[1;33m.\u001b[0m\u001b[0mretrieve\u001b[0m\u001b[1;33m(\u001b[0m\u001b[1;33m)\u001b[0m\u001b[1;33m\u001b[0m\u001b[1;33m\u001b[0m\u001b[0m\n\u001b[0m\u001b[0;32m   1057\u001b[0m             \u001b[1;31m# Make sure that we get a last message telling us we are done\u001b[0m\u001b[1;33m\u001b[0m\u001b[1;33m\u001b[0m\u001b[1;33m\u001b[0m\u001b[0m\n\u001b[0;32m   1058\u001b[0m             \u001b[0melapsed_time\u001b[0m \u001b[1;33m=\u001b[0m \u001b[0mtime\u001b[0m\u001b[1;33m.\u001b[0m\u001b[0mtime\u001b[0m\u001b[1;33m(\u001b[0m\u001b[1;33m)\u001b[0m \u001b[1;33m-\u001b[0m \u001b[0mself\u001b[0m\u001b[1;33m.\u001b[0m\u001b[0m_start_time\u001b[0m\u001b[1;33m\u001b[0m\u001b[1;33m\u001b[0m\u001b[0m\n",
      "\u001b[1;32mc:\\users\\asus\\appdata\\local\\programs\\python\\python38\\lib\\site-packages\\joblib\\parallel.py\u001b[0m in \u001b[0;36mretrieve\u001b[1;34m(self)\u001b[0m\n\u001b[0;32m    933\u001b[0m             \u001b[1;32mtry\u001b[0m\u001b[1;33m:\u001b[0m\u001b[1;33m\u001b[0m\u001b[1;33m\u001b[0m\u001b[0m\n\u001b[0;32m    934\u001b[0m                 \u001b[1;32mif\u001b[0m \u001b[0mgetattr\u001b[0m\u001b[1;33m(\u001b[0m\u001b[0mself\u001b[0m\u001b[1;33m.\u001b[0m\u001b[0m_backend\u001b[0m\u001b[1;33m,\u001b[0m \u001b[1;34m'supports_timeout'\u001b[0m\u001b[1;33m,\u001b[0m \u001b[1;32mFalse\u001b[0m\u001b[1;33m)\u001b[0m\u001b[1;33m:\u001b[0m\u001b[1;33m\u001b[0m\u001b[1;33m\u001b[0m\u001b[0m\n\u001b[1;32m--> 935\u001b[1;33m                     \u001b[0mself\u001b[0m\u001b[1;33m.\u001b[0m\u001b[0m_output\u001b[0m\u001b[1;33m.\u001b[0m\u001b[0mextend\u001b[0m\u001b[1;33m(\u001b[0m\u001b[0mjob\u001b[0m\u001b[1;33m.\u001b[0m\u001b[0mget\u001b[0m\u001b[1;33m(\u001b[0m\u001b[0mtimeout\u001b[0m\u001b[1;33m=\u001b[0m\u001b[0mself\u001b[0m\u001b[1;33m.\u001b[0m\u001b[0mtimeout\u001b[0m\u001b[1;33m)\u001b[0m\u001b[1;33m)\u001b[0m\u001b[1;33m\u001b[0m\u001b[1;33m\u001b[0m\u001b[0m\n\u001b[0m\u001b[0;32m    936\u001b[0m                 \u001b[1;32melse\u001b[0m\u001b[1;33m:\u001b[0m\u001b[1;33m\u001b[0m\u001b[1;33m\u001b[0m\u001b[0m\n\u001b[0;32m    937\u001b[0m                     \u001b[0mself\u001b[0m\u001b[1;33m.\u001b[0m\u001b[0m_output\u001b[0m\u001b[1;33m.\u001b[0m\u001b[0mextend\u001b[0m\u001b[1;33m(\u001b[0m\u001b[0mjob\u001b[0m\u001b[1;33m.\u001b[0m\u001b[0mget\u001b[0m\u001b[1;33m(\u001b[0m\u001b[1;33m)\u001b[0m\u001b[1;33m)\u001b[0m\u001b[1;33m\u001b[0m\u001b[1;33m\u001b[0m\u001b[0m\n",
      "\u001b[1;32mc:\\users\\asus\\appdata\\local\\programs\\python\\python38\\lib\\site-packages\\joblib\\_parallel_backends.py\u001b[0m in \u001b[0;36mwrap_future_result\u001b[1;34m(future, timeout)\u001b[0m\n\u001b[0;32m    540\u001b[0m         AsyncResults.get from multiprocessing.\"\"\"\n\u001b[0;32m    541\u001b[0m         \u001b[1;32mtry\u001b[0m\u001b[1;33m:\u001b[0m\u001b[1;33m\u001b[0m\u001b[1;33m\u001b[0m\u001b[0m\n\u001b[1;32m--> 542\u001b[1;33m             \u001b[1;32mreturn\u001b[0m \u001b[0mfuture\u001b[0m\u001b[1;33m.\u001b[0m\u001b[0mresult\u001b[0m\u001b[1;33m(\u001b[0m\u001b[0mtimeout\u001b[0m\u001b[1;33m=\u001b[0m\u001b[0mtimeout\u001b[0m\u001b[1;33m)\u001b[0m\u001b[1;33m\u001b[0m\u001b[1;33m\u001b[0m\u001b[0m\n\u001b[0m\u001b[0;32m    543\u001b[0m         \u001b[1;32mexcept\u001b[0m \u001b[0mCfTimeoutError\u001b[0m \u001b[1;32mas\u001b[0m \u001b[0me\u001b[0m\u001b[1;33m:\u001b[0m\u001b[1;33m\u001b[0m\u001b[1;33m\u001b[0m\u001b[0m\n\u001b[0;32m    544\u001b[0m             \u001b[1;32mraise\u001b[0m \u001b[0mTimeoutError\u001b[0m \u001b[1;32mfrom\u001b[0m \u001b[0me\u001b[0m\u001b[1;33m\u001b[0m\u001b[1;33m\u001b[0m\u001b[0m\n",
      "\u001b[1;32mc:\\users\\asus\\appdata\\local\\programs\\python\\python38\\lib\\concurrent\\futures\\_base.py\u001b[0m in \u001b[0;36mresult\u001b[1;34m(self, timeout)\u001b[0m\n\u001b[0;32m    437\u001b[0m                 \u001b[1;32mraise\u001b[0m \u001b[0mCancelledError\u001b[0m\u001b[1;33m(\u001b[0m\u001b[1;33m)\u001b[0m\u001b[1;33m\u001b[0m\u001b[1;33m\u001b[0m\u001b[0m\n\u001b[0;32m    438\u001b[0m             \u001b[1;32melif\u001b[0m \u001b[0mself\u001b[0m\u001b[1;33m.\u001b[0m\u001b[0m_state\u001b[0m \u001b[1;33m==\u001b[0m \u001b[0mFINISHED\u001b[0m\u001b[1;33m:\u001b[0m\u001b[1;33m\u001b[0m\u001b[1;33m\u001b[0m\u001b[0m\n\u001b[1;32m--> 439\u001b[1;33m                 \u001b[1;32mreturn\u001b[0m \u001b[0mself\u001b[0m\u001b[1;33m.\u001b[0m\u001b[0m__get_result\u001b[0m\u001b[1;33m(\u001b[0m\u001b[1;33m)\u001b[0m\u001b[1;33m\u001b[0m\u001b[1;33m\u001b[0m\u001b[0m\n\u001b[0m\u001b[0;32m    440\u001b[0m             \u001b[1;32melse\u001b[0m\u001b[1;33m:\u001b[0m\u001b[1;33m\u001b[0m\u001b[1;33m\u001b[0m\u001b[0m\n\u001b[0;32m    441\u001b[0m                 \u001b[1;32mraise\u001b[0m \u001b[0mTimeoutError\u001b[0m\u001b[1;33m(\u001b[0m\u001b[1;33m)\u001b[0m\u001b[1;33m\u001b[0m\u001b[1;33m\u001b[0m\u001b[0m\n",
      "\u001b[1;32mc:\\users\\asus\\appdata\\local\\programs\\python\\python38\\lib\\concurrent\\futures\\_base.py\u001b[0m in \u001b[0;36m__get_result\u001b[1;34m(self)\u001b[0m\n\u001b[0;32m    386\u001b[0m     \u001b[1;32mdef\u001b[0m \u001b[0m__get_result\u001b[0m\u001b[1;33m(\u001b[0m\u001b[0mself\u001b[0m\u001b[1;33m)\u001b[0m\u001b[1;33m:\u001b[0m\u001b[1;33m\u001b[0m\u001b[1;33m\u001b[0m\u001b[0m\n\u001b[0;32m    387\u001b[0m         \u001b[1;32mif\u001b[0m \u001b[0mself\u001b[0m\u001b[1;33m.\u001b[0m\u001b[0m_exception\u001b[0m\u001b[1;33m:\u001b[0m\u001b[1;33m\u001b[0m\u001b[1;33m\u001b[0m\u001b[0m\n\u001b[1;32m--> 388\u001b[1;33m             \u001b[1;32mraise\u001b[0m \u001b[0mself\u001b[0m\u001b[1;33m.\u001b[0m\u001b[0m_exception\u001b[0m\u001b[1;33m\u001b[0m\u001b[1;33m\u001b[0m\u001b[0m\n\u001b[0m\u001b[0;32m    389\u001b[0m         \u001b[1;32melse\u001b[0m\u001b[1;33m:\u001b[0m\u001b[1;33m\u001b[0m\u001b[1;33m\u001b[0m\u001b[0m\n\u001b[0;32m    390\u001b[0m             \u001b[1;32mreturn\u001b[0m \u001b[0mself\u001b[0m\u001b[1;33m.\u001b[0m\u001b[0m_result\u001b[0m\u001b[1;33m\u001b[0m\u001b[1;33m\u001b[0m\u001b[0m\n",
      "\u001b[1;31mMemoryError\u001b[0m: Unable to allocate 11.8 MiB for an array with shape (15996, 97) and data type float64"
     ]
    }
   ],
   "source": [
    "features_imps = {}\n",
    "\n",
    "for job in unique_jobs:\n",
    "    print(str(datetime.datetime.now()) + ' ... Calculating feature importances ' + job)\n",
    "\n",
    "    features_importances = permutation_importance(models[job],\n",
    "                                                  data[job]['X_train'],\n",
    "                                                  data[job]['y_train'],\n",
    "                                                  n_repeats=12,\n",
    "                                                  random_state=0,\n",
    "                                                  n_jobs=6)\n",
    "    features_importances.pop('importances')\n",
    "    features_importances = pd.DataFrame.from_dict(features_importances)\n",
    "    features_importances.index = X_train.columns\n",
    "\n",
    "    features_imps[job] = features_importances.sort_values('importances_mean', ascending=False)"
   ]
  },
  {
   "cell_type": "code",
   "execution_count": null,
   "metadata": {
    "pycharm": {
     "name": "#%%\n"
    }
   },
   "outputs": [],
   "source": [
    "[print(job, imp[:10].index.tolist()) for job, imp in features_imps.items()]"
   ]
  },
  {
   "cell_type": "markdown",
   "metadata": {
    "pycharm": {
     "name": "#%% md\n"
    }
   },
   "source": [
    "### Exporting"
   ]
  },
  {
   "cell_type": "code",
   "execution_count": null,
   "metadata": {
    "pycharm": {
     "name": "#%%\n"
    }
   },
   "outputs": [],
   "source": [
    "with open(os.path.join(MODEL_DIR, 'ensemble_models.pkl'), 'wb') as handle:\n",
    "    pickle.dump(models, handle)\n",
    "    "
   ]
  },
  {
   "cell_type": "code",
   "execution_count": null,
   "metadata": {
    "pycharm": {
     "name": "#%%\n"
    }
   },
   "outputs": [],
   "source": [
    "with open(os.path.join(MODEL_DIR, 'ensemble_models_eval.pkl'), 'wb') as handle:\n",
    "    pickle.dump({'train': train_evaluation, 'test': test_evaluation}, handle)"
   ]
  },
  {
   "cell_type": "code",
   "execution_count": null,
   "metadata": {
    "pycharm": {
     "name": "#%%\n"
    }
   },
   "outputs": [],
   "source": [
    "with open(os.path.join(MODEL_DIR, 'ensemble_models_feature_importances.pkl'), 'wb') as handle:\n",
    "    pickle.dump(features_imps, handle)"
   ]
  },
  {
   "cell_type": "code",
   "execution_count": null,
   "metadata": {
    "pycharm": {
     "name": "#%%\n"
    }
   },
   "outputs": [],
   "source": []
  },
  {
   "cell_type": "code",
   "execution_count": null,
   "metadata": {},
   "outputs": [],
   "source": []
  },
  {
   "cell_type": "code",
   "execution_count": null,
   "metadata": {},
   "outputs": [],
   "source": []
  }
 ],
 "metadata": {
  "kernelspec": {
   "display_name": "Python 3 (ipykernel)",
   "language": "python",
   "name": "python3"
  },
  "language_info": {
   "codemirror_mode": {
    "name": "ipython",
    "version": 3
   },
   "file_extension": ".py",
   "mimetype": "text/x-python",
   "name": "python",
   "nbconvert_exporter": "python",
   "pygments_lexer": "ipython3",
   "version": "3.8.0"
  }
 },
 "nbformat": 4,
 "nbformat_minor": 1
}
