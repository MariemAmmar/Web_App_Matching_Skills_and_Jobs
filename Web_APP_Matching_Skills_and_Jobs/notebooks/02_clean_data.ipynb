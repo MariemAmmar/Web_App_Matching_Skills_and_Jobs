{
 "cells": [
  {
   "cell_type": "code",
   "execution_count": 1,
   "metadata": {
    "pycharm": {
     "name": "#%%\n"
    }
   },
   "outputs": [],
   "source": [
    "DATA_PATH = '../data/processed/01_preprocessed_df.pkl'\n",
    "EXPORT_PATH = '../data/processed/02_cleaned_df.pkl'\n",
    "\n",
    "ROLE_COLS  = ['DevType']\n",
    "TECH_COLS  = ['LanguageHaveWorkedWith',\n",
    "              'DatabaseHaveWorkedWith',\n",
    "              'WebframeHaveWorkedWith',\n",
    "              'MiscTechHaveWorkedWith',\n",
    "              'ToolsTechHaveWorkedWith']\n",
    "\n",
    "EXCLUDE_ROLES = ['Other (please specify):',\n",
    "                 'Student',\n",
    "                 'Designer',\n",
    "                 'Educator',\n",
    "                 'Marketing or sales professional',\n",
    "                 'Engineering manager',\n",
    "                 'Senior Executive (C-Suite, VP, etc.)',\n",
    "                 'Product manager',\n",
    "                 'Engineer, site reliability']"
   ]
  },
  {
   "cell_type": "code",
   "execution_count": 4,
   "metadata": {
    "pycharm": {
     "name": "#%%\n"
    }
   },
   "outputs": [],
   "source": [
    "import pandas as pd\n",
    "import matplotlib.pyplot as plt\n",
    "import sys\n",
    "\n",
    "sys.path.append('../scripts')\n",
    "from preprocessing import one_hot_encode\n"
   ]
  },
  {
   "cell_type": "markdown",
   "metadata": {
    "pycharm": {
     "name": "#%% md\n"
    }
   },
   "source": [
    "### Initialize and preprocess"
   ]
  },
  {
   "cell_type": "code",
   "execution_count": 5,
   "metadata": {
    "pycharm": {
     "name": "#%%\n"
    }
   },
   "outputs": [],
   "source": [
    "# Read and preprocess\n",
    "processed_df = pd.read_pickle(DATA_PATH)\n",
    "ohe_df = one_hot_encode(processed_df, ROLE_COLS + TECH_COLS)"
   ]
  },
  {
   "cell_type": "code",
   "execution_count": 6,
   "metadata": {
    "pycharm": {
     "name": "#%%\n"
    }
   },
   "outputs": [],
   "source": [
    "# Initialize exclusion list\n",
    "exclude_masks = []"
   ]
  },
  {
   "cell_type": "markdown",
   "metadata": {
    "pycharm": {
     "name": "#%% md\n"
    }
   },
   "source": [
    "## Build filtering masks"
   ]
  },
  {
   "cell_type": "markdown",
   "metadata": {
    "pycharm": {
     "name": "#%% md\n"
    }
   },
   "source": [
    "### 1. Filter on number of roles specified"
   ]
  },
  {
   "cell_type": "code",
   "execution_count": 7,
   "metadata": {
    "pycharm": {
     "name": "#%%\n"
    }
   },
   "outputs": [
    {
     "data": {
      "text/plain": [
       "0     16955\n",
       "1     26917\n",
       "2     13750\n",
       "3      9926\n",
       "4      6237\n",
       "5      3683\n",
       "6      2251\n",
       "7      1385\n",
       "8       840\n",
       "9       535\n",
       "10      315\n",
       "11      230\n",
       "12      142\n",
       "13       85\n",
       "14       43\n",
       "15       36\n",
       "16       28\n",
       "17       15\n",
       "18        9\n",
       "19       11\n",
       "20        1\n",
       "21        6\n",
       "22        2\n",
       "23        7\n",
       "24       18\n",
       "25       12\n",
       "dtype: int64"
      ]
     },
     "execution_count": 7,
     "metadata": {},
     "output_type": "execute_result"
    }
   ],
   "source": [
    "# Calculate\n",
    "freq_roles = ohe_df[ROLE_COLS].sum(axis=1)\n",
    "freq_roles.value_counts().sort_index()"
   ]
  },
  {
   "cell_type": "code",
   "execution_count": 8,
   "metadata": {
    "pycharm": {
     "name": "#%%\n"
    }
   },
   "outputs": [],
   "source": [
    "# Create and save exclusion mask\n",
    "N_ROLES_RANGE = [1,3]\n",
    "\n",
    "exclude_nroles = (freq_roles < N_ROLES_RANGE[0]) | (freq_roles > N_ROLES_RANGE[1])\n",
    "exclude_nroles.name = 'n_roles'\n",
    "\n",
    "exclude_masks.append(exclude_nroles)"
   ]
  },
  {
   "cell_type": "markdown",
   "metadata": {
    "pycharm": {
     "name": "#%% md\n"
    }
   },
   "source": [
    "### 2. Filter on number of techs specified"
   ]
  },
  {
   "cell_type": "code",
   "execution_count": 9,
   "metadata": {
    "pycharm": {
     "name": "#%%\n"
    }
   },
   "outputs": [
    {
     "data": {
      "text/plain": [
       "0      717\n",
       "1      801\n",
       "2     1414\n",
       "3     2023\n",
       "4     2694\n",
       "      ... \n",
       "93       1\n",
       "94       2\n",
       "95       2\n",
       "96       2\n",
       "97      15\n",
       "Length: 86, dtype: int64"
      ]
     },
     "execution_count": 9,
     "metadata": {},
     "output_type": "execute_result"
    }
   ],
   "source": [
    "# Calculate\n",
    "freq_tech = ohe_df[TECH_COLS].sum(axis=1)\n",
    "freq_tech.value_counts().sort_index()"
   ]
  },
  {
   "cell_type": "code",
   "execution_count": 10,
   "metadata": {
    "pycharm": {
     "name": "#%%\n"
    }
   },
   "outputs": [
    {
     "data": {
      "image/png": "[encoded data removed]",
      "text/plain": [
       "<Figure size 432x288 with 1 Axes>"
      ]
     },
     "metadata": {
      "needs_background": "light"
     },
     "output_type": "display_data"
    }
   ],
   "source": [
    "# plot\n",
    "plt.hist(freq_tech, freq_tech.max())\n",
    "plt.title('Number of Skills')\n",
    "plt.show()"
   ]
  },
  {
   "cell_type": "code",
   "execution_count": 11,
   "metadata": {
    "pycharm": {
     "name": "#%%\n"
    }
   },
   "outputs": [],
   "source": [
    "# Create and save exclusion mask\n",
    "N_TECH_RANGE = [2,15]\n",
    "\n",
    "exclude_ntech = (freq_tech < N_TECH_RANGE[0]) | (freq_tech > N_TECH_RANGE[1])\n",
    "exclude_ntech.name = 'n_tech'\n",
    "\n",
    "exclude_masks.append(exclude_ntech)"
   ]
  },
  {
   "cell_type": "markdown",
   "metadata": {
    "pycharm": {
     "name": "#%% md\n"
    }
   },
   "source": [
    "### 3. Filter on employment"
   ]
  },
  {
   "cell_type": "code",
   "execution_count": 12,
   "metadata": {
    "pycharm": {
     "name": "#%%\n"
    }
   },
   "outputs": [
    {
     "data": {
      "text/plain": [
       "Employed full-time                                      53584\n",
       "Student, full-time                                      11781\n",
       "Independent contractor, freelancer, or self-employed     8041\n",
       "Not employed, but looking for work                       2961\n",
       "Employed part-time                                       2461\n",
       "Student, part-time                                       2051\n",
       "Not employed, and not looking for work                   1228\n",
       "I prefer not to say                                       890\n",
       "Retired                                                   326\n",
       "Name: Employment, dtype: int64"
      ]
     },
     "execution_count": 12,
     "metadata": {},
     "output_type": "execute_result"
    }
   ],
   "source": [
    "# Calculate\n",
    "processed_df['Employment'].value_counts()"
   ]
  },
  {
   "cell_type": "code",
   "execution_count": 13,
   "metadata": {
    "pycharm": {
     "name": "#%%\n"
    }
   },
   "outputs": [],
   "source": [
    "# Create and save exclusion mask\n",
    "KEEP_EMPLOYMENT = ['Employed full-time', 'Employed part-time']\n",
    "\n",
    "exclude_employment = ~processed_df['Employment'].isin(KEEP_EMPLOYMENT)\n",
    "exclude_employment.name = 'employment'\n",
    "\n",
    "exclude_masks.append(exclude_employment)"
   ]
  },
  {
   "cell_type": "markdown",
   "metadata": {
    "pycharm": {
     "name": "#%% md\n"
    }
   },
   "source": [
    "### 4. Filter on relevant roles"
   ]
  },
  {
   "cell_type": "code",
   "execution_count": 14,
   "metadata": {
    "pycharm": {
     "name": "#%%\n"
    }
   },
   "outputs": [],
   "source": [
    "exclude_single_roles = [[role] for role in EXCLUDE_ROLES]"
   ]
  },
  {
   "cell_type": "code",
   "execution_count": 15,
   "metadata": {
    "pycharm": {
     "name": "#%%\n"
    }
   },
   "outputs": [],
   "source": [
    "exclude_role = processed_df['DevType'].isin(exclude_single_roles)\n",
    "exclude_role.name = 'role'\n",
    "\n",
    "exclude_masks.append(exclude_role)"
   ]
  },
  {
   "cell_type": "markdown",
   "metadata": {
    "pycharm": {
     "name": "#%% md\n"
    }
   },
   "source": [
    "_____"
   ]
  },
  {
   "cell_type": "markdown",
   "metadata": {
    "pycharm": {
     "name": "#%% md\n"
    }
   },
   "source": [
    "## Filter Dataframe"
   ]
  },
  {
   "cell_type": "code",
   "execution_count": 16,
   "metadata": {
    "pycharm": {
     "name": "#%%\n"
    }
   },
   "outputs": [],
   "source": [
    "# Merge masks\n",
    "exclude_df = pd.DataFrame(exclude_masks).T"
   ]
  },
  {
   "cell_type": "code",
   "execution_count": 17,
   "metadata": {
    "pycharm": {
     "name": "#%%\n"
    }
   },
   "outputs": [
    {
     "data": {
      "text/plain": [
       "n_roles       39.365285\n",
       "n_tech        31.232397\n",
       "employment    32.831170\n",
       "role           4.757967\n",
       "dtype: float64"
      ]
     },
     "execution_count": 17,
     "metadata": {},
     "output_type": "execute_result"
    }
   ],
   "source": [
    "# Get insights: percentages of exclusion per filter\n",
    "exclude_df.sum() * 100 / len(exclude_df)"
   ]
  },
  {
   "cell_type": "code",
   "execution_count": 18,
   "metadata": {
    "pycharm": {
     "name": "#%%\n"
    }
   },
   "outputs": [
    {
     "data": {
      "text/plain": [
       "0    36.115006\n",
       "1    28.251777\n",
       "2    26.964609\n",
       "3     8.668608\n",
       "dtype: float64"
      ]
     },
     "execution_count": 18,
     "metadata": {},
     "output_type": "execute_result"
    }
   ],
   "source": [
    "# Get insights: multiple exclusion criteria\n",
    "# 36% of the data will be kept\n",
    "exclude_df.sum(axis=1).value_counts() * 100 / len(exclude_df)"
   ]
  },
  {
   "cell_type": "code",
   "execution_count": 19,
   "metadata": {
    "pycharm": {
     "name": "#%%\n"
    }
   },
   "outputs": [],
   "source": [
    "# If any of the exclusion criteria occured, drop\n",
    "final_exclusion_mask = exclude_df.any(axis=1)\n",
    "cleaned_df = processed_df[~final_exclusion_mask].copy()"
   ]
  },
  {
   "cell_type": "markdown",
   "metadata": {
    "pycharm": {
     "name": "#%% md\n"
    }
   },
   "source": [
    "## Export"
   ]
  },
  {
   "cell_type": "code",
   "execution_count": 20,
   "metadata": {
    "pycharm": {
     "name": "#%%\n"
    }
   },
   "outputs": [],
   "source": [
    "cleaned_df.to_pickle(EXPORT_PATH)"
   ]
  },
  {
   "cell_type": "code",
   "execution_count": null,
   "metadata": {
    "pycharm": {
     "name": "#%%\n"
    }
   },
   "outputs": [],
   "source": []
  }
 ],
 "metadata": {
  "kernelspec": {
   "display_name": "Python 3 (ipykernel)",
   "language": "python",
   "name": "python3"
  },
  "language_info": {
   "codemirror_mode": {
    "name": "ipython",
    "version": 3
   },
   "file_extension": ".py",
   "mimetype": "text/x-python",
   "name": "python",
   "nbconvert_exporter": "python",
   "pygments_lexer": "ipython3",
   "version": "3.8.0"
  }
 },
 "nbformat": 4,
 "nbformat_minor": 1
}
